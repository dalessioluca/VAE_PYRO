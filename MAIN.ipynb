{
 "cells": [
  {
   "cell_type": "markdown",
   "metadata": {},
   "source": [
    "# FashionMNIST VAE"
   ]
  },
  {
   "cell_type": "code",
   "execution_count": 1,
   "metadata": {},
   "outputs": [],
   "source": [
    "import matplotlib.pyplot as plt\n",
    "%matplotlib inline\n",
    "\n",
    "import numpy as np\n",
    "import torch\n",
    "import torchvision\n",
    "import torchvision.transforms as tvt\n",
    "import pyro\n",
    "from pyro.infer import SVI, Trace_ELBO\n",
    "from pyro.optim import Adam, Adamax, Adadelta, SGD, RMSprop\n",
    "from torchvision import utils\n",
    "from helper_functions import *\n",
    "from sklearn.manifold import TSNE"
   ]
  },
  {
   "cell_type": "markdown",
   "metadata": {},
   "source": [
    "### Define the simulation parameters"
   ]
  },
  {
   "cell_type": "code",
   "execution_count": 2,
   "metadata": {},
   "outputs": [
    {
     "name": "stdout",
     "output_type": "stream",
     "text": [
      "{'DIM_Z': 20, 'WIDTH': 28, 'CHANNELS': 1, 'HEIGHT': 28, 'use_cuda': True, 'SCALE': 1.0}\n"
     ]
    }
   ],
   "source": [
    "params = { \n",
    "    'CHANNELS' : 1,\n",
    "    'WIDTH' : 28,\n",
    "    'HEIGHT':28, \n",
    "    'DIM_Z':20,\n",
    "    'SCALE': 1.0,\n",
    "    'use_cuda' : torch.cuda.is_available()\n",
    "    }\n",
    "print(params)"
   ]
  },
  {
   "cell_type": "markdown",
   "metadata": {},
   "source": [
    "### Get the data"
   ]
  },
  {
   "cell_type": "code",
   "execution_count": 4,
   "metadata": {},
   "outputs": [
    {
     "name": "stdout",
     "output_type": "stream",
     "text": [
      "torch.Size([4, 1, 28, 28])\n"
     ]
    },
    {
     "data": {
      "text/plain": [
       "<matplotlib.image.AxesImage at 0x7f02b9fe1940>"
      ]
     },
     "execution_count": 4,
     "metadata": {},
     "output_type": "execute_result"
    },
    {
     "data": {
      "image/png": "[encoded data removed]",
      "text/plain": [
       "<Figure size 432x288 with 1 Axes>"
      ]
     },
     "metadata": {
      "needs_background": "light"
     },
     "output_type": "display_data"
    }
   ],
   "source": [
    "BATCH_SIZE = 512\n",
    "kwargs = {'num_workers': 0, 'pin_memory': params[\"use_cuda\"]}\n",
    "data_dir = \"/home/jupyter/REPOS/VAE_PYRO\"\n",
    "#data_dir = \"/home/ldalessi/REPOS/VAE_PYRO\"\n",
    "#data_dir = \"/Users/ldalessi/VAE_PYRO\"\n",
    "\n",
    "\n",
    "trainset = torchvision.datasets.FashionMNIST(data_dir, train=True, download=True, transform=tvt.ToTensor())\n",
    "trainloader = torch.utils.data.DataLoader(trainset, batch_size=BATCH_SIZE, shuffle=True, **kwargs)\n",
    "testset = torchvision.datasets.FashionMNIST(data_dir, train=False, download=True, transform=tvt.ToTensor())\n",
    "testloader = torch.utils.data.DataLoader(testset, batch_size=BATCH_SIZE, shuffle=False, **kwargs)\n",
    "\n",
    "imgs_test,labels = next(iter(testloader))\n",
    "if(params['use_cuda']):\n",
    "    imgs_test=imgs_test[:4].cuda()\n",
    "\n",
    "print(imgs_test.shape)\n",
    "show_batch(imgs_test,npadding=4)"
   ]
  },
  {
   "cell_type": "markdown",
   "metadata": {},
   "source": [
    "# VAE in PYTORCH"
   ]
  },
  {
   "cell_type": "code",
   "execution_count": null,
   "metadata": {},
   "outputs": [],
   "source": [
    "from encoder_decoder import *\n",
    "from vae import *\n",
    "encoder = Encoder_CONV(params)\n",
    "decoder = Decoder_CONV(params)\n",
    "vae = VAE(params,encoder,decoder)"
   ]
  },
  {
   "cell_type": "code",
   "execution_count": null,
   "metadata": {},
   "outputs": [],
   "source": [
    "imgs_rec = vae.reconstruct(imgs_test)\n",
    "show_batch(imgs_rec,nrow=4,npadding=4,title=\"reconstruction before training\")\n",
    "plt.savefig(\"rec_before_training.png\")"
   ]
  },
  {
   "cell_type": "code",
   "execution_count": null,
   "metadata": {},
   "outputs": [],
   "source": [
    "pt_optimizer = torch.optim.RMSprop(vae.parameters(),lr=1E-6)\n",
    "pt_scheduler = torch.optim.lr_scheduler.StepLR(pt_optimizer, step_size=1, gamma=1.5, last_epoch=-1)\n",
    "\n",
    "pt_hist_loss = []\n",
    "pt_hist_lr = []\n",
    "for epoch in range(30):\n",
    "    loss_curr = train_VAE_pytorch(vae, trainloader, pt_optimizer, use_cuda = params['use_cuda'], verbose=(epoch==-1))\n",
    "    lr_curr   = pt_optimizer.param_groups[0]['lr']\n",
    "    print(\"[epoch %03d] train loss: %.4f lr: %.4e\" % (epoch, loss_curr, lr_curr))\n",
    "    pt_hist_loss.append(loss_curr)  \n",
    "    pt_hist_lr.append(lr_curr)\n",
    "    pt_scheduler.step()\n",
    "    if(np.isnan(loss_curr)):\n",
    "        break \n",
    "        \n",
    "    imgs_rec = vae.reconstruct(imgs_test)\n",
    "    show_batch(imgs_rec,nrow=4,npadding=4,title=\"epoch = \"+str(epoch))\n",
    "    plt.savefig(\"PYTORCH_rec_epoch_\"+str(epoch)+\".png\")"
   ]
  },
  {
   "cell_type": "code",
   "execution_count": null,
   "metadata": {},
   "outputs": [],
   "source": [
    "#plt.plot(pt_hist_lr,pt_hist_loss)\n",
    "plt.xscale('log')\n",
    "plt.plot(pt_hist_lr,pt_hist_loss,'.--')\n",
    "plt.xlabel('learning rate')\n",
    "plt.ylabel('loss')\n",
    "plt.savefig(\"PYTORCH_train.png\")"
   ]
  },
  {
   "cell_type": "code",
   "execution_count": null,
   "metadata": {},
   "outputs": [],
   "source": [
    "from PIL import Image\n",
    "\n",
    "epoch = 10\n",
    "path=\"./PYTORCH_rec_epoch_\"+str(epoch)+\".png\"\n",
    "display(Image.open(path))"
   ]
  },
  {
   "cell_type": "markdown",
   "metadata": {},
   "source": [
    "# VAE in PYRO"
   ]
  },
  {
   "cell_type": "code",
   "execution_count": 5,
   "metadata": {},
   "outputs": [],
   "source": [
    "from encoder_decoder import *\n",
    "from vae import *\n",
    "encoder = Encoder_CONV(params)\n",
    "decoder = Decoder_CONV(params)\n",
    "vae = VAE(params,encoder,decoder)"
   ]
  },
  {
   "cell_type": "code",
   "execution_count": 6,
   "metadata": {},
   "outputs": [
    {
     "data": {
      "image/png": "[encoded data removed]",
      "text/plain": [
       "<Figure size 432x288 with 1 Axes>"
      ]
     },
     "metadata": {
      "needs_background": "light"
     },
     "output_type": "display_data"
    }
   ],
   "source": [
    "imgs_rec = vae.reconstruct(imgs_test)\n",
    "show_batch(imgs_rec,nrow=4,npadding=4,title=\"reconstruction before training\")\n",
    "plt.savefig(\"rec_before_training.png\")"
   ]
  },
  {
   "cell_type": "code",
   "execution_count": 7,
   "metadata": {},
   "outputs": [],
   "source": [
    "pyro.clear_param_store()\n",
    "pyro.set_rng_seed(0)\n",
    "\n",
    "optimizer_args = {'lr': 1E-6}\n",
    "scheduler_args = {'optimizer': torch.optim.RMSprop, 'step_size' : 1, 'gamma' : 1.5, 'optim_args' : optimizer_args}\n",
    "\n",
    "pyro_scheduler = pyro.optim.StepLR(scheduler_args)\n",
    "svi = SVI(vae.model, vae.guide, pyro_scheduler, loss=Trace_ELBO(num_particles=1))"
   ]
  },
  {
   "cell_type": "code",
   "execution_count": null,
   "metadata": {},
   "outputs": [],
   "source": [
    "# preparation\n",
    "hist_loss = []\n",
    "hist_lr = []\n",
    "    \n",
    "for epoch in range(0,30):\n",
    "    \n",
    "    loss_cur = train(svi, trainloader, use_cuda=params['use_cuda'], verbose=False)\n",
    "    lr_cur   = pyro_scheduler.pt_optim_args['lr']\n",
    "    print(\"[epoch %03d] train loss: %.4f lr: %.4e\" % (epoch, loss_curr, lr_curr))\n",
    "    pt_hist_loss.append(loss_curr)  \n",
    "    pt_hist_lr.append(lr_curr)\n",
    "    pt_scheduler.step()\n",
    "    if(np.isnan(loss_curr)):\n",
    "        break \n",
    "        \n",
    "    imgs_rec = vae.reconstruct(imgs_test)\n",
    "    show_batch(imgs_rec,nrow=4,npadding=4,title=\"epoch = \"+str(epoch))\n",
    "    plt.savefig(\"PYRO_rec_epoch_\"+str(epoch)+\".png\")"
   ]
  },
  {
   "cell_type": "code",
   "execution_count": null,
   "metadata": {},
   "outputs": [],
   "source": [
    "#plt.plot(pt_hist_lr,pt_hist_loss)\n",
    "plt.xscale('log')\n",
    "plt.plot(pt_hist_lr,pt_hist_loss,'.--')\n",
    "plt.xlabel('learning rate')\n",
    "plt.ylabel('loss')\n",
    "plt.savefig(\"PYRO_train.png\")"
   ]
  },
  {
   "cell_type": "code",
   "execution_count": null,
   "metadata": {},
   "outputs": [],
   "source": [
    "#def lr_finder(model,guide,optimizer=None, objective=None, loader=None, lr_start=1E-3, lr_multiplier=1.0, N_epoch=10, use_cuda=False):\n",
    "#    \n",
    "#    pyro_scheduler = pyro.optim.ExponentialLR({'optimizer': optimizer, 'optim_args': {'lr': lr_start}, 'gamma': lr_multiplier})\n",
    "#    svi = SVI(model, guide, pyro_scheduler, loss=objective)\n",
    "#        \n",
    "#    # preparation\n",
    "#    hist_loss = []\n",
    "#    hist_lr = []\n",
    "#    \n",
    "#    for epoch in range(0,N_epoch):\n",
    "#        \n",
    "#        loss_cur = train(svi, loader, use_cuda=use_cuda, verbose=False)\n",
    "#        lr_cur   = svi.optim.pt_optim_args['lr']\n",
    "#        hist_loss.append(loss_cur)\n",
    "#        hist_lr.append(lr_cur)\n",
    "#        print(\"epoch,lr,loss %4d %.4e %.4f\" %(epoch,hist_lr[-1],hist_loss[-1]))\n",
    "#    \n",
    " #  return hist_loss,hist_lr"
   ]
  },
  {
   "cell_type": "code",
   "execution_count": null,
   "metadata": {},
   "outputs": [],
   "source": [
    "#optimizer_args = {'lr': 1E-2}\n",
    "#scheduler_args = {'optimizer': torch.optim.RMSprop, 'step_size' : 1, 'gamma' : 1.0, 'optim_args' : optimizer_args}\n",
    "#\n",
    "#pyro_scheduler = pyro.optim.StepLR(scheduler_args)\n",
    "#svi = SVI(vae.model, vae.guide, pyro_scheduler, loss=Trace_ELBO(num_particles=1))\n",
    "#\n",
    "#\n",
    "## preparation\n",
    "#hist_loss = []\n",
    "#hist_lr = []\n",
    "#    \n",
    "#for epoch in range(0,10):\n",
    "#        \n",
    "#    loss_cur = train(svi, trainloader, use_cuda=params['use_cuda'], verbose=False)\n",
    "#    lr_cur   = svi.optim.pt_optim_args['lr']\n",
    "#    hist_loss.append(loss_cur)\n",
    "#    hist_lr.append(lr_cur)\n",
    "#    print(\"epoch,lr,loss %4d %.4e %.4f\" %(epoch,hist_lr[-1],hist_loss[-1]))"
   ]
  },
  {
   "cell_type": "code",
   "execution_count": null,
   "metadata": {},
   "outputs": [],
   "source": [
    "def lr_finder(model, svi, loader, start_lr=1E-4, end_lr=10, n_mini_batch=10, lr_multiplier=1.1, epoch_delay=3, use_cuda=False):\n",
    "    \n",
    "    # preparation\n",
    "    model.train() \n",
    "    svi.optim.pt_optim_args['lr'] = start_lr\n",
    "    hist_loss = []\n",
    "    hist_lr = []\n",
    "    \n",
    "    mini_batch = 0\n",
    "    loss_tmp = 0\n",
    "    epoch = -1\n",
    "    while True:\n",
    "        epoch += 1\n",
    "        for i,data in enumerate(loader):\n",
    "            \n",
    "            # if on GPU put mini-batch into CUDA memory\n",
    "            x, _ = data\n",
    "            if use_cuda:\n",
    "                x = x.cuda()\n",
    "            loss = svi.step(x)\n",
    "            \n",
    "            #print(\"epoch,mini_batch,lr,loss %.4d %.4d %.4e %.4f\" %(epoch,i,svi.optim.pt_optim_args['lr'],loss))\n",
    "            \n",
    "            mini_batch += 1\n",
    "            loss_tmp += loss\n",
    "            \n",
    "            \n",
    "            if(mini_batch % n_mini_batch == 0):            \n",
    "                hist_loss.append(loss_tmp/n_mini_batch)\n",
    "                hist_lr.append(svi.optim.pt_optim_args['lr'])\n",
    "                print(\"lr,loss %.4e %.4f\" %(hist_lr[-1],hist_loss[-1]))\n",
    "                mini_batch = 0\n",
    "                loss_tmp = 0\n",
    "                if(epoch >= epoch_delay):\n",
    "                    svi.optim.pt_optim_args['lr'] *= lr_multiplier\n",
    "            \n",
    "            if(np.isnan(loss)):\n",
    "                print(\"loss is nan\")\n",
    "                return hist_loss,hist_lr\n",
    "            if(not(end_lr is None) and svi.optim.pt_optim_args['lr']>end_lr):\n",
    "                print(\"lr is bigger than end_lr\")\n",
    "                return hist_loss,hist_lr\n",
    "    \n",
    "    return hist_loss,hist_lr"
   ]
  },
  {
   "cell_type": "code",
   "execution_count": null,
   "metadata": {},
   "outputs": [],
   "source": [
    "hist_loss,hist_lr = lr_finder(vae, svi, trainloader, \n",
    "                              start_lr=1E-4, \n",
    "                              end_lr=10, \n",
    "                              n_mini_batch=50, \n",
    "                              lr_multiplier=1.2, \n",
    "                              epoch_delay=3,\n",
    "                              use_cuda=params['use_cuda'])"
   ]
  },
  {
   "cell_type": "code",
   "execution_count": null,
   "metadata": {},
   "outputs": [],
   "source": [
    "hist_loss_2,hist_lr_2 = lr_finder(vae, svi, trainloader, \n",
    "                              start_lr=10, \n",
    "                              end_lr=1000, \n",
    "                              n_mini_batch=50, \n",
    "                              lr_multiplier=1.2, \n",
    "                              epoch_delay=0,\n",
    "                              use_cuda=params['use_cuda'])"
   ]
  },
  {
   "cell_type": "code",
   "execution_count": null,
   "metadata": {},
   "outputs": [],
   "source": [
    "hist_loss_3,hist_lr_3 = lr_finder(vae, svi, trainloader, \n",
    "                              start_lr=1000, \n",
    "                              end_lr=1E8, \n",
    "                              n_mini_batch=50, \n",
    "                              lr_multiplier=1.2, \n",
    "                              epoch_delay=0,\n",
    "                              use_cuda=params['use_cuda'])"
   ]
  },
  {
   "cell_type": "code",
   "execution_count": null,
   "metadata": {},
   "outputs": [],
   "source": [
    "#print(hist_loss,hist_lr)\n",
    "#plt.xscale('log')\n",
    "#plt.plot(hist_lr,hist_loss)\n",
    "#plt.plot(hist_lr_2,hist_loss_2)\n",
    "#plt.plot(hist_loss)\n",
    "#plt.plot(hist_loss_2)\n",
    "#plt.plot(hist_loss_3)\n",
    "\n",
    "hist = hist_loss + hist_loss_2 + hist_loss_3\n",
    "plt.plot(hist)\n"
   ]
  },
  {
   "cell_type": "code",
   "execution_count": null,
   "metadata": {},
   "outputs": [],
   "source": [
    "optimizer = RMSprop(params=vae.params, lr=0.0001) # this is adaptive, \n",
    "len(optimizer.param_groups)"
   ]
  },
  {
   "cell_type": "code",
   "execution_count": null,
   "metadata": {},
   "outputs": [],
   "source": [
    "for param_group in optimizer.param_groups:\n",
    "    print(param_group)\n",
    "    #, self.get_lr()):\n",
    "    #        param_group['lr'] *= lr\n",
    "        "
   ]
  },
  {
   "cell_type": "code",
   "execution_count": null,
   "metadata": {},
   "outputs": [],
   "source": [
    "#a = svi.optim.pt_optim_args\n",
    "#print(a)"
   ]
  },
  {
   "cell_type": "code",
   "execution_count": null,
   "metadata": {},
   "outputs": [],
   "source": [
    "#optimizer = torch.optim.SGD(model.parameters(), lr=0.1, momentum=0.9)\n",
    "#scheduler = torch.optim.CyclicLR(optimizer)\n",
    "#torch.optim.lr_scheduler.StepLR\n",
    "#for epoch inrange(10):train_batch(...)scheduler.step()\n",
    "#optimizer = SGD({\"lr\": 1.0e-3, \"betas\":(0.9, 0.999)})"
   ]
  },
  {
   "cell_type": "code",
   "execution_count": null,
   "metadata": {},
   "outputs": [],
   "source": [
    "# training loop\n",
    "train_loss, test_loss = [], []\n",
    "min_loss = 99999\n",
    "for epoch in range(0,NUM_EPOCHS):\n",
    "    vae.train()            \n",
    "       \n",
    "    loss = train(svi,trainloader,use_cuda=params['use_cuda'],verbose=(epoch ==0))\n",
    "    train_loss.append(loss)   \n",
    "    print(\"[epoch %03d] train loss: %.4f\" % (epoch, loss))\n",
    "    \n",
    "    if(epoch % TEST_FREQUENCY == 0):\n",
    "        vae.eval()\n",
    "        loss = evaluate(svi,testloader,use_cuda=params['use_cuda'],verbose=(epoch ==0))\n",
    "        test_loss.append(loss)\n",
    "    \n",
    "        if(test_loss[-1] < min_loss):\n",
    "            print(\"[epoch %03d] test  loss: %.4f --New Record--\" % (epoch, loss)) \n",
    "            min_loss = test_loss[-1]\n",
    "            #### Save if you got a record \n",
    "            ###save_model(vae,write_dir,name_vae+str(epoch))       \n",
    "            ###save_obj(test_loss,write_dir,name_test_loss+str(epoch))\n",
    "            ###save_obj(train_loss,write_dir,name_train_loss+str(epoch))\n",
    "        else:\n",
    "            print(\"[epoch %03d] test  loss: %.4f \" % (epoch, loss))\n",
    "            \n",
    "    if(epoch % WRITE_FREQUENCY == 0):\n",
    "        save_model(vae,write_dir,name_vae+str(epoch))       \n",
    "        save_obj(test_loss,write_dir,name_test_loss+str(epoch))\n",
    "        save_obj(train_loss,write_dir,name_train_loss+str(epoch))\n"
   ]
  },
  {
   "cell_type": "markdown",
   "metadata": {},
   "source": [
    "# Check the results"
   ]
  },
  {
   "cell_type": "code",
   "execution_count": null,
   "metadata": {},
   "outputs": [],
   "source": [
    "#write_dir = '/Users/ldalessi/VAE_PYRO/ARCHIVE/'\n",
    "\n",
    "#descriptor      = \"MNIST_v1\"\n",
    "\n",
    "#load_model(vae,write_dir,\"vae_\"+descriptor+\"_400\")\n",
    "#test_loss = load_obj(write_dir,\"test_loss_\"+descriptor+\"_400\")\n",
    "#train_loss = load_obj(write_dir,\"train_loss_\"+descriptor+\"_400\")\n",
    "#name_vae = \"vae_\"+descriptor"
   ]
  },
  {
   "cell_type": "code",
   "execution_count": null,
   "metadata": {},
   "outputs": [],
   "source": [
    "from matplotlib import pyplot as plt\n",
    "\n",
    "plt.yscale('log')\n",
    "y_shift=1000\n",
    "x_shift=0\n",
    "plt.plot(np.arange(x_shift, x_shift+len(train_loss)), np.array(train_loss)+y_shift)\n",
    "plt.plot(np.arange(x_shift, x_shift+len(train_loss), TEST_FREQUENCY), np.array(test_loss)+y_shift, '.--')\n",
    "plt.xlabel('epoch')\n",
    "plt.ylabel('LOSS = - ELBO')\n",
    "plt.title('Training procedure')\n",
    "#plt.ylim(top = 760)\n",
    "#plt.xlim(xmin = 0, xmax=700)\n",
    "plt.grid(True)\n",
    "plt.legend(['train', 'test'])\n",
    "#plt.show()\n",
    "\n",
    "\n",
    "plt.savefig(write_dir+name_vae+'train.png')"
   ]
  },
  {
   "cell_type": "code",
   "execution_count": null,
   "metadata": {},
   "outputs": [],
   "source": [
    "#imgs,labels = next(iter(testloader))\n",
    "imgs,labels = next(iter(trainloader))\n",
    "if(params['use_cuda']):\n",
    "    imgs=imgs.cuda()\n",
    "imgs_rec = vae.reconstruct(imgs)\n",
    "show_2_batch(imgs[:12],imgs_rec[:12],npadding=4,nrow=6)\n",
    "plt.savefig(write_dir+name_vae+'rec.png')"
   ]
  },
  {
   "cell_type": "markdown",
   "metadata": {},
   "source": [
    "# compute the embedding"
   ]
  },
  {
   "cell_type": "code",
   "execution_count": null,
   "metadata": {},
   "outputs": [],
   "source": [
    "z_tot      = np.empty([0,params['DIM_Z']])\n",
    "labels_tot = np.empty([0])\n",
    "for data in testloader:\n",
    "    if z_tot.shape[0] >= 6000:\n",
    "        break\n",
    "\n",
    "    imgs,labels = data\n",
    "    if(params['use_cuda']):\n",
    "        imgs=imgs.cuda()\n",
    "    z = vae.encoder(imgs)\n",
    "\n",
    "    z_tot = np.concatenate((z_tot, z.z_mu.view(-1,params['DIM_Z']).detach().cpu().numpy()),axis=0)\n",
    "    labels_tot = np.concatenate((labels_tot, labels.numpy()),axis=0)\n",
    "\n",
    "print(\"z_tot.shape\",z_tot.shape)\n",
    "print(\"labels_tot.shape\",labels_tot.shape)"
   ]
  },
  {
   "cell_type": "markdown",
   "metadata": {},
   "source": [
    "# Clear the data"
   ]
  },
  {
   "cell_type": "code",
   "execution_count": null,
   "metadata": {},
   "outputs": [],
   "source": [
    "z_tot[np.isnan(z_tot)] = 0\n",
    "z_tot[z_tot > 100] = 0\n",
    "print(z_tot.shape)\n",
    "print(z_tot[labels_tot==0].shape)\n",
    "print(labels_tot.shape)"
   ]
  },
  {
   "cell_type": "code",
   "execution_count": null,
   "metadata": {},
   "outputs": [],
   "source": [
    "for k in np.unique(labels_tot):\n",
    "    plt.plot(z_tot[labels_tot==k, 0], \n",
    "             z_tot[labels_tot==k, 1], '.', ms=8, alpha=0.5)\n",
    "\n",
    "       \n",
    "lgnd = plt.legend(np.unique(labels_tot).astype(int), \n",
    "                  loc='center left', bbox_to_anchor=(1, 0.5))\n",
    "for i in range(len(lgnd.legendHandles)):\n",
    "    lgnd.legendHandles[i]._legmarker.set_markersize(20)\n",
    "    lgnd.legendHandles[i]._legmarker.set_alpha(1)\n",
    "\n",
    "plt.xlabel('z 0')\n",
    "plt.ylabel('z 1')\n",
    "plt.title('Visualization of raw z')\n",
    "plt.box(on=None)\n",
    "plt.savefig(write_dir+name_vae+'raw_z.png')"
   ]
  },
  {
   "cell_type": "code",
   "execution_count": null,
   "metadata": {},
   "outputs": [],
   "source": []
  },
  {
   "cell_type": "code",
   "execution_count": null,
   "metadata": {},
   "outputs": [],
   "source": [
    "cluster = dict()\n",
    "\n",
    "for k in np.unique(labels_tot):\n",
    "    mean_tmp = np.mean(z_tot[labels_tot == k],axis=0)\n",
    "    #print(mean_tmp.shape)\n",
    "    cluster[int(k)] = mean_tmp\n",
    "cluster['all']=np.mean(z_tot,axis=0)\n",
    "    "
   ]
  },
  {
   "cell_type": "code",
   "execution_count": null,
   "metadata": {},
   "outputs": [],
   "source": [
    "print(cluster)"
   ]
  },
  {
   "cell_type": "code",
   "execution_count": null,
   "metadata": {},
   "outputs": [],
   "source": [
    "\n",
    "for key in range(10):\n",
    "    mean = cluster[key]\n",
    "    plt.plot(mean[0],mean[1],'.', ms=20, alpha=1,label=key)\n",
    "plt.plot(cluster['all'][0],cluster['all'][1],'x', ms=10, alpha=1,label='all')\n",
    "plt.legend(loc='center left', bbox_to_anchor=(1, 0.5))\n",
    "plt.box(on=None)\n",
    "plt.savefig(write_dir+name_vae+'cluster_center.png')"
   ]
  },
  {
   "cell_type": "code",
   "execution_count": null,
   "metadata": {},
   "outputs": [],
   "source": [
    "# and I know this sounds ridiculous but we have to do more\n",
    "# dimensionality reduction to visualize our dimensionality reduction\n",
    "\n",
    "from sklearn.manifold import TSNE\n",
    "z_tsne = TSNE(n_components=2).fit_transform(z_tot)"
   ]
  },
  {
   "cell_type": "code",
   "execution_count": null,
   "metadata": {},
   "outputs": [],
   "source": [
    "plt.rcParams.update({'font.size': 14})\n",
    "\n",
    "plt.figure(figsize=(8, 8), frameon=False)\n",
    "for k in np.unique(labels_tot):\n",
    "    plt.plot(z_tsne[labels_tot==k, 0], \n",
    "             z_tsne[labels_tot==k, 1], '.', ms=8, alpha=0.5)\n",
    "\n",
    "lgnd = plt.legend(np.unique(labels_tot).astype(int), \n",
    "                  loc='center left', bbox_to_anchor=(1, 0.5))\n",
    "for i in range(len(lgnd.legendHandles)):\n",
    "    lgnd.legendHandles[i]._legmarker.set_markersize(20)\n",
    "    lgnd.legendHandles[i]._legmarker.set_alpha(1)\n",
    "\n",
    "plt.xlabel('TSNE 0')\n",
    "plt.ylabel('TSNE 1')\n",
    "plt.title('Visualization of embedding')\n",
    "plt.box(on=None)\n",
    "plt.savefig(write_dir+name_vae+'embedding.png')"
   ]
  },
  {
   "cell_type": "code",
   "execution_count": null,
   "metadata": {},
   "outputs": [],
   "source": []
  }
 ],
 "metadata": {
  "kernelspec": {
   "display_name": "Python 3",
   "language": "python",
   "name": "python3"
  },
  "language_info": {
   "codemirror_mode": {
    "name": "ipython",
    "version": 3
   },
   "file_extension": ".py",
   "mimetype": "text/x-python",
   "name": "python",
   "nbconvert_exporter": "python",
   "pygments_lexer": "ipython3",
   "version": "3.5.3"
  }
 },
 "nbformat": 4,
 "nbformat_minor": 2
}
